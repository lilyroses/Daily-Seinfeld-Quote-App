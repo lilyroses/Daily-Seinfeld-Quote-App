{
 "cells": [
  {
   "cell_type": "code",
   "execution_count": 61,
   "metadata": {},
   "outputs": [],
   "source": [
    "# from urllib.request import urlopen\n",
    "from bs4 import BeautifulSoup\n",
    "\n",
    "import requests\n",
    "import urllib.request"
   ]
  },
  {
   "cell_type": "markdown",
   "metadata": {},
   "source": [
    "---\n",
    "\n",
    "## Book Examples"
   ]
  },
  {
   "cell_type": "markdown",
   "metadata": {},
   "source": [
    "### Exact Example"
   ]
  },
  {
   "cell_type": "code",
   "execution_count": 62,
   "metadata": {},
   "outputs": [],
   "source": [
    "from urllib.request import urlopen\n",
    "from bs4 import BeautifulSoup"
   ]
  },
  {
   "cell_type": "code",
   "execution_count": 63,
   "metadata": {},
   "outputs": [],
   "source": [
    "# 1. Open the URL\n",
    "html_ex = urlopen('http://www.pythonscraping.com/pages/page1.html')"
   ]
  },
  {
   "cell_type": "code",
   "execution_count": 64,
   "metadata": {},
   "outputs": [],
   "source": [
    "# 2. Read the HTML with bs\n",
    "bs = BeautifulSoup(html_ex.read(), 'html.parser')"
   ]
  },
  {
   "cell_type": "code",
   "execution_count": 65,
   "metadata": {},
   "outputs": [
    {
     "name": "stdout",
     "output_type": "stream",
     "text": [
      "<h1>An Interesting Title</h1>\n"
     ]
    }
   ],
   "source": [
    "# 3. Retrieve the first header tag\n",
    "print(bs.h1)"
   ]
  },
  {
   "cell_type": "markdown",
   "metadata": {},
   "source": [
    "---\n",
    "\n",
    "### Modified Example"
   ]
  },
  {
   "cell_type": "code",
   "execution_count": 66,
   "metadata": {},
   "outputs": [],
   "source": [
    "from urllib.request import Request, urlopen"
   ]
  },
  {
   "cell_type": "code",
   "execution_count": 67,
   "metadata": {},
   "outputs": [],
   "source": [
    "# Set a header variable\n",
    "hdr = {'User-Agent': 'Mozilla/5.0 (iPad; CPU OS 12_2 like Mac OS X) AppleWebKit/605.1.15 (KHTML, like Gecko) Mobile/15E148'}"
   ]
  },
  {
   "cell_type": "code",
   "execution_count": 68,
   "metadata": {},
   "outputs": [],
   "source": [
    "# 0. Use Request to apply headers to request\n",
    "req = Request('http://www.pythonscraping.com/pages/page1.html', headers=hdr)"
   ]
  },
  {
   "cell_type": "code",
   "execution_count": 69,
   "metadata": {},
   "outputs": [],
   "source": [
    "# 1. Open the request (URL and headers)\n",
    "html = urlopen(req)"
   ]
  },
  {
   "cell_type": "code",
   "execution_count": 70,
   "metadata": {},
   "outputs": [],
   "source": [
    "# 2. Read the HTML with bs\n",
    "bs = BeautifulSoup(html.read(), 'html.parser')"
   ]
  },
  {
   "cell_type": "code",
   "execution_count": 71,
   "metadata": {},
   "outputs": [
    {
     "name": "stdout",
     "output_type": "stream",
     "text": [
      "<h1>An Interesting Title</h1>\n"
     ]
    }
   ],
   "source": [
    "# 3. Retrieve the first header tag\n",
    "print(bs.h1)"
   ]
  },
  {
   "cell_type": "markdown",
   "metadata": {},
   "source": [
    "---\n",
    "\n",
    "## Applied Examples"
   ]
  },
  {
   "cell_type": "code",
   "execution_count": 78,
   "metadata": {},
   "outputs": [],
   "source": [
    "# Set variables for URL and header\n",
    "\n",
    "# Seinfeld Quotes Page\n",
    "url_quotes_page = \"https://www.seinfeldscripts.com/seinfeld-quotes.html\"\n",
    "\n",
    "# Header\n",
    "hdr = {'User-Agent': 'Mozilla/5.0 (iPad; CPU OS 12_2 like Mac OS X) AppleWebKit/605.1.15 (KHTML, like Gecko) Mobile/15E148'}"
   ]
  },
  {
   "cell_type": "code",
   "execution_count": 79,
   "metadata": {},
   "outputs": [],
   "source": [
    "req = Request(url_quotes_page, headers=hdr)"
   ]
  },
  {
   "cell_type": "code",
   "execution_count": null,
   "metadata": {},
   "outputs": [],
   "source": [
    "# 2. Read HTML with bs "
   ]
  },
  {
   "cell_type": "code",
   "execution_count": 74,
   "metadata": {},
   "outputs": [],
   "source": [
    "response_quotes_page = requests.get(url_quotes_page, headers=headers)"
   ]
  },
  {
   "cell_type": "code",
   "execution_count": 75,
   "metadata": {},
   "outputs": [
    {
     "name": "stdout",
     "output_type": "stream",
     "text": [
      "<!DOCTYPE html PUBLIC \"-//W3C//DTD XHTML 1.0 Transitional//EN\" \"http://www.w3.org/TR/xhtml1/DTD/xhtml1-transitional.dtd\">\n",
      "<html xmlns=\"http://www.w3.org/1999/xhtml\"\n",
      "      xmlns:og=\"http://opengraphprotocol.org/schema/\"\n",
      "      xmlns:fb=\"http://www.facebook.com/2008/fbml\"><!-- InstanceBegin template=\"/Templates/seinfeld.dwt\" codeOutsideHTMLIsLocked=\"false\" -->\n",
      "<head>\n",
      "<meta http-equiv=\"Content-Type\" content=\"text/html; charset=utf-8\" />\n",
      "<META NAME=\"AUTHOR\" CONTENT=\"Doctoroids\" />\n",
      "<META NAME=\"COPYRIGHT\" CONTENT=\"&copy; 2002-2010 Doctoroids\" />\n",
      "<!-- InstanceBeginEditable name=\"doctitle\" -->\n",
      "<title>Seinfeld Quotes</title>\n",
      "<!-- InstanceEndEditable -->\n",
      "<link href=\"support-files/seinfeld.css\" rel=\"stylesheet\" type=\"text/css\" />\n",
      "\n",
      "<!-- InstanceBeginEditable name=\"docdescription\" -->\n",
      "<meta name=\"Description\" content=\"Here are the best-of-the-best Seinfeld quotes  that can put a smile on anyone&rsquo;s face! We all know what rhymes with Mulva &ndash; do  you?\" />\n",
      "<!-- InstanceEndEditable -->\n",
      "\n",
      "<!-- InstanceBeginEditable name=\"dockeywords\" -->\n",
      "<meta name=\"Keywords\" content=\"seinfeld quotes, tv quotes, seinfeld quote, kramer quotes, these pretzels are makin me thirsty\" />\n",
      "<!-- InstanceEndEditable -->\n",
      "<script type=\"text/javascript\">\n",
      "window.google_analytics_uacct = \"UA-16472669-1\";\n",
      "</script>\n",
      "<link rel=\"image_src\" href=\"images/seinfeld-share.jpg\" />\n",
      "<script type=\"text/javascript\" src=\"http://s7.addthis.com/js/250/addthis_widget.js#username=doctoroids\">var addthis_config = {data_track_clickback: true};</script>\n",
      "<!-- InstanceBeginEditable name=\"head\" -->\n",
      "<!-- InstanceEndEditable -->\n",
      "<!-- InstanceBeginEditable name=\"pagetype\" -->\n",
      "<script type=\"text/javascript\">\n",
      "\tvar pageType=\"QUOTES\";\n",
      "</script>\n",
      "<!-- InstanceEndEditable -->\n",
      "<script type=\"text/javascript\" src=\"https://apis.google.com/js/plusone.js\"></script>\n",
      "\n",
      "<meta property=\"og:site_name\" content=\"SeinfeldScripts\"/>\n",
      "<meta property=\"fb:app_id\" content=\"164823560224402\"/>\n",
      "<meta property=\"fb:admins\" content=\"824270386\"/>\n",
      "<!-- InstanceBeginEditable name=\"ogdata\" -->\n",
      "<meta property=\"og:image\" content=\"http://www.seinfeldscripts.com/images/seinfeld-cast.jpg\"/>\n",
      "<meta property=\"og:title\" content=\"Seinfeld Quotes\"/>\n",
      "<meta property=\"og:type\" content=\"tv_show\"/>\n",
      "<meta property=\"og:url\" content=\"http://www.seinfeldscripts.com/seinfeld-quotes.html\"/>\n",
      "<meta property=\"og:description\" content=\"Here are the best-of-the-best Seinfeld quotes  that can put a smile on anyone&rsquo;s face! We all know what rhymes with Mulva &ndash; do  you?\"/>\n",
      "\n",
      "<!-- InstanceEndEditable -->\n",
      "\n",
      "</head>\n",
      "<body>\n",
      "<div class=\"wrap\">\n",
      "\t\t<div class=\"head_title\">\n",
      "        </div>\n",
      "\t\t<div id=\"menu\">\n",
      "      \t\t<ul>\n",
      "        \t\t<!-- **** INSERT NAVIGATION ITEMS HERE (use id=\"selected\" to identify the page you're on **** -->\n",
      "        \t\t\n",
      "                <li><a href=\"index.html\">Home</a></li>\n",
      "                <li><a href=\"seinfeld-scripts.html\">Scripts</a></li>\n",
      "                <li><a href=\"episodes_oveview.html\">Episodes</a></li>\n",
      "                <li><a href=\"seinfeld-characters.html\">Characters</a></li>\n",
      "                <li><a href=\"buy-seinfeld.html\">Gifts</a></li>\n",
      "                </ul>\n",
      "                <div class=\"addthis_toolbox addthis_default_style\" id=\"menu_share\">\n",
      "                <li><a style=\"padding: 8px 3px 8px 160px\" href=\"http://addthis.com/bookmark.php?v=250&amp;username=doctoroids\" class=\"addthis_button_compact\">Share</a></li>\n",
      "                <li><a class=\"addthis_button_facebook\"></a></li>\n",
      "                 <li><a class=\"addthis_button_twitter\"></a></li>\n",
      "                <li><a class=\"addthis_button_googlebuzz\"></a></li>\n",
      "                <li><a class=\"addthis_button_digg\"></a></li>\n",
      "                 </div>\n",
      "\t\t</div>\n",
      "        <div class=\"underMenu\">\n",
      "        <a href=\"http://community.seinfeldscripts.com\">Click Here to join our new Seinfeld's fans community!</a></div>\n",
      "\n",
      "         <div id=\"content\"><!-- InstanceBeginEditable name=\"main_content\" -->\n",
      "            <h1>Best Seinfeld Quotes EVER!</h1>\n",
      "            \n",
      "            <p>&nbsp;</p><table width=\"300\" height=\"250\" border=\"0\" align=\"left\" cellpadding=\"0\" style=\"margin-right:10px;\">\n",
      "      <tr>\n",
      "        <td>\n",
      "\t\t<script type=\"text/javascript\"><!--\n",
      "google_ad_client = \"ca-pub-4355410371465348\";\n",
      "/* html-in_content-top_left */\n",
      "google_ad_slot = \"4619537930\";\n",
      "google_ad_width = 300;\n",
      "google_ad_height = 250;\n",
      "//-->\n",
      "</script>\n",
      "<script type=\"text/javascript\"\n",
      "src=\"http://pagead2.googlesyndication.com/pagead/show_ads.js\">\n",
      "</script>\n",
      "\n",
      "\t\t</td>\n",
      "      </tr>\n",
      "    </table><!-- BeginAdHead --><p><strong>Looking for  a great gift idea for the holidays? <br />Check out our complete <a href=\"buy-seinfeld.html\">Seinfeld Gift Guide right now</a>! Including <a href=\"seinfeld-t-shirt.html\">T-Shirts</a>, <a href=\"seinfeld-dvd.html\">DVDs</a>,  and more!</strong></p><p>&nbsp;</p><script src=\"http://connect.facebook.net/en_US/all.js#xfbml=1\"></script><fb:like show_faces=\"false\" width=\"330\"></fb:like><g:plusone></g:plusone><!-- EndAd -->\n",
      "\n",
      "            <p>Nearly every single Seinfeld episode has given  viewers scores of favorite Seinfeld quotes that never seem to lose their charm.  If you&rsquo;re looking for a collection of the best Seinfeld TV quotes, Jerry  Seinfeld quotes, or Kramer quotes, you&rsquo;ve come looking in the right place! </p>\n",
      "            <h3>The  Best of Seinfeld Quotes</h3>\n",
      "<ul class=\"index_page\">\n",
      "            <li><p>Boy, these pretzels are makin' me thirsty.  &ndash;Kramer</p></li>\n",
      "            <li><p>If you know what happened in the Mets game don't  tell me, I taped it. Hello? &ndash; Jerry Seinfeld</p></li>\n",
      "            <li><p>It became very clear to me sitting out there  today that every decision I've made in my entire life has been wrong. My life  is the complete opposite of everything I want it to be. Every instinct I have,  in every aspect of life, be it something to wear, something to eat - it's all  been wrong. <br />\n",
      "  &ndash; George Costanza</p></li>\n",
      "            <li><p>I'm not a lesbian. I hate men, but I'm not a  lesbian. &ndash;Elaine Benes</p></li>\n",
      "            <li><p>Yo Yo Ma. &ndash;Kramer</p></li>\n",
      "            <li><p>Looking at cleavage is like looking at the sun.  You don't stare at it. It's too risky. Ya get a sense of it and then you look  away. &ndash;Jerry Seinfeld</p></li>\n",
      "            </ul>\n",
      "            <p><a href=\"    http://www.shareasale.com/r.cfm?u=439896&amp;b=119192&amp;m=16934&amp;afftrack=seinfeldQuotesTop&amp;urllink=search%2E80stees%2Ecom%2F%3Fcategory%3D80s%2BTV%26i%3D1%26theme%3DSeinfeld%26u1%3Dcategory%26u2%3Dtheme\" target=\"_blank\"><img src=\"images/seinfeldTbanner-650x100.jpg\" alt=\"Buy Seinfeld T-shirts\" width=\"650\" height=\"100\" border=\"0\" /></a></p>\n",
      "            <ul class=\"index_page\">\n",
      "            <li><p>You have the chicken, the hen, and the rooster.  The chicken goes with the hen... So who is having sex with the rooster? &ndash;Frank  Costanza</p></li>\n",
      "            <li><p>The cat - mrrreeeooowww - is out of the bag!  &ndash;Kramer</p></li>\n",
      "            <li><p>Good for you, Jack! &ndash; Gary Fogel</p></li>\n",
      "\t\t\t<li><p>Jerry, just remember, it's not a lie if you  believe it. &ndash; George Costanza</p></li>\n",
      "            <li><p>Do you ever get down on your knees and thank God  you know me and have access to my dementia? &ndash; George Costanza</p></li>\n",
      "            <li><p>We don't know how long this will last. They are  a very festive people. &ndash;Elaine Benes</p></li>\n",
      "            <li><p>I had a dream last night that a hamburger was  eating me. &ndash;Jerry Seinfeld</p></li>\n",
      "            <li><p>You know I always wanted to pretend I was an  architect. &ndash; George Costanza</p></li>\n",
      "            <li><p>If you're not gonna be a part of a civil  society, then just get in your car and drive on over to the East Side. &ndash;Kramer</p></li>\n",
      "            <li><p>I'm speechless. I have no speech. &ndash;George  Costanza</p></li>\n",
      "            <li><p>Jerry: You will be stunned. <br />\n",
      "              Elaine: Stunned by soup? <br />\n",
      "              Jerry: You can't eat this soup standing up. Your  knees buckle.</p></li>\n",
      "            <li><p>George Costanza: I want to make a good entrance.  I never makes good entrances. <br />\n",
      "              Jerry: You have made some good exits.</p></li>\n",
      "            <li><p>All right, hey, you've been great! See you at  the cafeteria. &ndash;Jerry Seinfeld</p></li>\n",
      "            <li><p>Elaine: Ugh, I hate people. <br />\n",
      "              Jerry: Yeah, they're the worst.</p></li>\n",
      "            <li><p>I have been performing feats of strength all  morning. &ndash; Frank Costanza</p></li>\n",
      "            <li><p>I lie every second of the day. My whole life is  a sham. &ndash; George Costanza</p></li>\n",
      "            <li><p>Newman: Hello, Jerry. <br />\n",
      "              Jerry: Hello, Newman.</p></li>\n",
      "            <li><p>I'm on the Mexican, whoa oh oh, radio. &ndash;Kramer</p></li>\n",
      "            <li><p>I have a bad feeling that whenever a lesbian  looks at me they think &quot;That's why I'm not a heterosexual.&quot; &ndash;George  Costanza</p></li>\n",
      "            <li><p>Hi, my name is George, I'm unemployed and I live  with my parents. &ndash;George Costanza</p></li>\n",
      "            <li><p>George Costanza: What kind of a person are you? <br />\n",
      "              Jerry: I think I'm pretty much like you, only  successful.</p></li>\n",
      "            <li><p>Just remember, when you control the mail, you  control... information. &ndash;Newman</p></li>\n",
      "            <li><p>I don't trust the guy. I think he regifted, then  he degifted, and now he's using an upstairs invite as a springboard to a Super  bowl sex romp. &ndash;Jerry Seinfeld</p></li>\n",
      "            <li><p>I don't think I've ever been to an appointment  in my life where I wanted the other guy to show up. &ndash;George Costanza</p></li>\n",
      "            <li><p>Mr. Ross: I don't think there's any greater  tragedy than when parents outlive their children. <br />\n",
      "              George Costanza: Yes, I hope my parents die long  before I do.</p></li>\n",
      "            <li><p>Jerry: George Costanza... Is getting *married*! <br />\n",
      "              Elaine: Get out!</p></li>\n",
      "            <li><p>Boy, a little too much chlorine in that gene  pool. &ndash;Jerry Seinfeld</p></li>\n",
      "            <li><p>Let's watch them slice this fat bastard up.  &ndash;Jerry Seinfeld</p></li>\n",
      "            <li><p>Do you have any idea how much time I waste in  this apartment? &ndash;Kramer</p></li>\n",
      "            <li><p>See, this is what the holidays are all about.  Three buddies sitting around chewing gum. &ndash;Kramer</p></li>\n",
      "            <li><p>Jerry: What the hell is that crap? <br />\n",
      "              Kramer: It's Pagliacci, Jerry.</p></li>\n",
      "            <li><p>Puddy: Well, I've got a ten kroner, a five  kroner, a twenty kroner. A fifty kroner? How much is that? <br />\n",
      "              Elaine: We have to break up.</p></li>\n",
      "            <li><p>George Costanza: You've got to apologize. <br />\n",
      "              Jerry: Why? <br />\n",
      "              George Costanza: Because it&rsquo;s the mature and  adult thing to do. <br />\n",
      "              Jerry: How does that affect me?</p></li>\n",
      "            <li><p>Jerry: Is that your &quot;chicken&quot; making  all that noise? <br />\n",
      "              Kramer: Oh, Little Jerry loves the morning. <br />\n",
      "              Jerry: Who? <br />\n",
      "              Kramer: Little Jerry Seinfeld. Yeah I named my  chicken after you.</p></li>\n",
      "            <li><p>The carpet sweeper is the biggest scam  perpetrated on the American public since One Hour Martinizing. &ndash;Kramer</p></li>\n",
      "            <li><p>Kramer: C&rsquo;mon, what&rsquo;d you say?<br />\n",
      "              George: Mulva!<br />\n",
      "              Jerry: Mulva?</p></li>\n",
      "            <li><p>You know, it's so nice when it happens good.  &ndash;Jerry Seinfeld</p></li>\n",
      "            <li><p>He fires people like it's a bodily function!  &ndash;George Costanza</p></li>\n",
      "            <li><p>Here's to feeling good all the time. &ndash;Kramer</p></li>\n",
      "            <li><p>Kramer: Well, I've got gonorrhea. <br />\n",
      "              Elaine: That seems about right.</p></li>\n",
      "            <li><p>I'll be back. We'll make out. &ndash;David Puddy</p></li>\n",
      "            <li><p>You very bad man, Jerry. Very bad man. &ndash; Babu  Bhatt</p></li>\n",
      "            <li><p>Ah, look, I? I'm sorry to bother you, but I'm a  US postal worker and my mail truck was just ambushed by a band of backwoods  mail-hating survivalists. &ndash;Newman</p></li>\n",
      "            <li><p>George Costanza: You're gonna over-dry your  laundry. <br />\n",
      "              Jerry: You can't over-dry. <br />\n",
      "              George Costanza: Why not? <br />\n",
      "              Jerry: Same reason you can't over-wet.</p></li>\n",
      "            <li><p>Elaine: Why does everything have to be so...  jokey with you? <br />\n",
      "              Jerry: I'm a comedian.</p></li>\n",
      "              </ul>\n",
      "<p>    <a href=\"http://www.shareasale.com/r.cfm?u=439896&amp;b=119192&amp;m=16934&amp;afftrack=seinfeldQuotesBottom&amp;urllink=search%2E80stees%2Ecom%2F%3Fcategory%3D80s%2BTV%26i%3D1%26theme%3DSeinfeld%26u1%3Dcategory%26u2%3Dtheme\" target=\"_blank\"><img src=\"images/seinfeldTbanner-650x100b.jpg\" alt=\"Buy Seinfeld T-shirts\" width=\"650\" height=\"100\" border=\"0\" /></a></p>              \n",
      "         <!-- InstanceEndEditable -->\n",
      "        </div> \n",
      "         <!-- content -->\n",
      "\t\t   \n",
      "<div id=\"navBar\">\n",
      "\t\t\n",
      "\t\t<div id=\"upperBox\">\n",
      "       \t<script type=\"text/javascript\"><!--\n",
      "google_ad_client = \"ca-pub-4355410371465348\";\n",
      "/* html-nav_bar-top_small */\n",
      "google_ad_slot = \"4348143300\";\n",
      "google_ad_width = 200;\n",
      "google_ad_height = 200;\n",
      "//-->\n",
      "</script>\n",
      "<script type=\"text/javascript\"\n",
      "src=\"http://pagead2.googlesyndication.com/pagead/show_ads.js\">\n",
      "</script>\n",
      "\t\t</div>\n",
      "        <div class=\"leftnav\"><br />\n",
      "          <ul>\n",
      "\t\t\t\t<li><a href=\"index.html\">Home</a></li>\n",
      "\t\t\t\t<li><a href=\"seinfeld-scripts.html\">Full Scripts</a></li>\n",
      "           \t\t<li><a href=\"http://community.seinfeldscripts.com/\">Community</a> </li>\n",
      "           \t\t<li><a href=\"episodes_oveview.html\">Episodes Guide</a> </li>\n",
      "        \t\t<li><a href=\"seinfeld-characters.html\">Characters Details</a></li>\n",
      "        \t\t<li><a href=\"seinfeld-cast.html\">Cast Details</a></li>\n",
      "        \t\t<li><a href=\"seinfeld-quotes.html\">Quotes</a></li>\n",
      "        \t\t<li><a href=\"buy-seinfeld.html\">Seinfeld Gift Shop</a></li>\n",
      "        \t\t<li><a href=\"festivus.html\">Festivus Info</a></li>\n",
      "        \t\t<li><a href=\"seinfeld-superman.html\">Superman References</a></li>\n",
      "        \t\t<li><a href=\"watch-seinfeld.html\">Watch Online</a></li>\n",
      "                \n",
      "            <li><a href=\"#\">Search in site</a></li>\n",
      "            \n",
      "\t\t\t\n",
      "<form action=\"http://seinfeldscripts.com/search.html\" id=\"cse-search-box\">\n",
      "  <div>\n",
      "    <input type=\"hidden\" name=\"cx\" value=\"partner-pub-4355410371465348:0292184103\" />\n",
      "    <input type=\"hidden\" name=\"cof\" value=\"FORID:10\" />\n",
      "    <input type=\"hidden\" name=\"ie\" value=\"UTF-8\" />\n",
      "    <input type=\"text\" name=\"q\" size=\"20\" />\n",
      "    <input type=\"submit\" name=\"sa\" value=\"Search\" />\n",
      "  </div>\n",
      "</form>\n",
      "\n",
      "\n",
      "\n",
      "\n",
      "\t\t\t\t\n",
      "\t\t    \n",
      "          </ul>\n",
      "              <p><a href=\"#\" target=\"_top\"></a><br /></p>\n",
      "\t\t  <p>&nbsp;</p>\n",
      "       </div>\n",
      "       \n",
      "\n",
      "<script type=\"text/javascript\" src=\"http://www.google.com/cse/brand?form=cse-search-box&amp;lang=en\"></script>\n",
      "\t       \n",
      "<script type=\"text/javascript\"><!--\n",
      "google_ad_client = \"ca-pub-4355410371465348\";\n",
      "/* html-nav_bar-tower */\n",
      "google_ad_slot = \"3170809384\";\n",
      "google_ad_width = 160;\n",
      "google_ad_height = 600;\n",
      "//-->\n",
      "</script>\n",
      "<script type='text/javascript'>\n",
      "if (pageType!=\"HOME\" && pageType!=\"CHARACTERS\" && pageType!=\"SCRIPTSINDEX\") {\n",
      "  document.write('<script type=\"text/javascript\" src=\"http://pagead2.googlesyndication.com/pagead/show_ads.js\"></scr' + 'ipt>'); \n",
      "}\n",
      "</script>\n",
      "\n",
      "<p &nbsp;></p>\n",
      "<!-- InstanceBeginEditable name=\"bottomrightnav\" -->\n",
      "<!-- InstanceEndEditable -->\n",
      "<script type=\"text/javascript\">\n",
      "\tvar pageHeight = document.documentElement.scrollHeight;\n",
      "\tvar bannerSize = 2300;\n",
      "\tvar headHeight = (pageType!=\"HOME\" && pageType!=\"CHARACTERS\" && pageType!=\"SCRIPTSINDEX\")?1500:900; // in these pages there is no google adsense block below the navigation\n",
      "\tvar bannerRepeat = (pageHeight > (headHeight + 1500))?Math.ceil((pageHeight - headHeight) / 2300):0;\n",
      "\tif (pageType!=\"SALE\" ){ \n",
      "\t\tif (bannerRepeat > 0) {\n",
      "\t\t\tfor (i=1;i<=bannerRepeat;i++) {\n",
      "\t\t\t\tdocument.write(\"<a href=\\\"http://www.shareasale.com/r.cfm?u=439896\\&amp;b=119192\\&amp;m=16934\\&amp;afftrack=seinfeldSideBanner\" + i + \"\\&amp;urllink=search%2E80stees%2Ecom%2Fsearch%3Fpage%3D1%26q%3Dseinfeld%26type%3Dproduct\\\" target=\\\"_blank\\\" class=\\\"extlink\\\"><img src=\\\"images/seinfeld-Tshirt-banner-160x2300.jpg\\\" align=\\\"center\\\" width=\\\"160\\\" height=\\\"2300\\\" alt=\\\"Best Seinfeld T-shirts\\\" border=\\\"0\\\" /></a>\");\n",
      "\t\t\t}\n",
      "\t\t} else if (pageHeight > (headHeight + 300) ) {\n",
      "\t\t\t\tdocument.write(\"<a href=\\\"http://www.shareasale.com/r.cfm?u=439896\\&amp;b=119192\\&amp;m=16934\\&amp;afftrack=seinfeldSideBannerShort\\&amp;urllink=search%2E80stees%2Ecom%2Fsearch%3Fpage%3D1%26q%3Dseinfeld%26type%3Dproduct\\\" target=\\\"_blank\\\" class=\\\"extlink\\\"><img src=\\\"images/seinfeldTbanner-160x800.jpg\\\" align=\\\"center\\\" width=\\\"160\\\" height=\\\"800\\\" alt=\\\"Best Seinfeld T-shirts\\\" border=\\\"0\\\" /></a>\");\t\t\t\n",
      "\t\t}\n",
      "\t}\n",
      "</script>\n",
      "  </div>\n",
      "<script language=\"JavaScript1.2\" type=\"text/javascript\">\n",
      "\t<!--\n",
      "\t\tfunction noSpam(user,domain) {\n",
      "\t\tlocationstring = \"mailto:\" + user + \"@\" + domain;\n",
      "\t\t\twindow.location = locationstring;\n",
      "\t\t}\n",
      "\t-->\n",
      "\t</script>\n",
      "  <div class=\"footer\">\n",
      "          <p><a href=\"episodes_oveview.html\">Episodes Overview</a> | <a href=\"seinfeld-scripts.html\">Scripts</a> | <a href=\"javascript:noSpam('doctoroidsweb','gmail.com')\">Contact</a></p>\n",
      "          <p>Copyright 2002-2011 SeinfeldScripts.com</p>\n",
      "</div>\n",
      "</div>\n",
      "<!-- Kontera ContentLink(TM);-->\n",
      "<script type='text/javascript'>\n",
      "var dc_AdLinkColor = 'blue' ; \n",
      "var dc_PublisherID = 141705 ; \n",
      "</script>\n",
      "<script type='text/javascript'>\n",
      "if (pageType==\"CONTENT\") {\n",
      "  document.write('<script type=\"text/javascript\" src=\"http://kona.kontera.com/javascript/lib/KonaLibInline.js\"></scr' + 'ipt>'); \n",
      "}\n",
      "</script>\n",
      "<script type=\"text/javascript\">\n",
      "  var _gaq = _gaq || [];\n",
      "  _gaq.push(['_setAccount', 'UA-16472669-1']);\n",
      "  _gaq.push(['_trackPageview']);\n",
      "  (function() {\n",
      "    var ga = document.createElement('script'); ga.type = 'text/javascript'; ga.async = true;\n",
      "    ga.src = ('https:' == document.location.protocol ? 'https://ssl' : 'http://www') + '.google-analytics.com/ga.js';\n",
      "    var s = document.getElementsByTagName('script')[0]; s.parentNode.insertBefore(ga, s);\n",
      "  })();\n",
      "</script></body>\n",
      "<!-- InstanceEnd --></html>\n",
      "\n"
     ]
    }
   ],
   "source": [
    "print(response_quotes_page.text)"
   ]
  }
 ],
 "metadata": {
  "kernelspec": {
   "display_name": "Python 3",
   "language": "python",
   "name": "python3"
  },
  "language_info": {
   "codemirror_mode": {
    "name": "ipython",
    "version": 3
   },
   "file_extension": ".py",
   "mimetype": "text/x-python",
   "name": "python",
   "nbconvert_exporter": "python",
   "pygments_lexer": "ipython3",
   "version": "3.10.12"
  }
 },
 "nbformat": 4,
 "nbformat_minor": 2
}

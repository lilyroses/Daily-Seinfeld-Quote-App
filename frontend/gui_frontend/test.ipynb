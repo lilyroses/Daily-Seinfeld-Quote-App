{
 "cells": [
  {
   "cell_type": "code",
   "execution_count": 2,
   "metadata": {},
   "outputs": [],
   "source": [
    "from PyQt6.QtCore import Qt\n",
    "from PyQt6.QtWidgets import (\n",
    "    QApplication,\n",
    "    QCheckBox,\n",
    "    QComboBox,\n",
    "    QDateEdit,\n",
    "    QDateTimeEdit,\n",
    "    QDial,\n",
    "    QDoubleSpinBox,\n",
    "    QFontComboBox,\n",
    "    QLabel,\n",
    "    QLCDNumber,\n",
    "    QLineEdit,\n",
    "    QMainWindow,\n",
    "    QProgressBar,\n",
    "    QPushButton,\n",
    "    QRadioButton,\n",
    "    QSlider,\n",
    "    QSpinBox,\n",
    "    QTimeEdit,\n",
    "    QVBoxLayout,\n",
    "    QWidget\n",
    ")"
   ]
  },
  {
   "cell_type": "code",
   "execution_count": null,
   "metadata": {},
   "outputs": [],
   "source": [
    "class MainWindow(QMainWindow):\n",
    "    def __init__(self):\n",
    "        super().__init__()\n",
    "        \n",
    "        self.setWindowTitle(\"Widgets App\")\n",
    "        \n",
    "        layout = QVBoxLayout()\n",
    "        widgets = [\n",
    "            QCheckBox,\n",
    "            QComboBox,\n",
    "            QDateEdit,\n",
    "            QDateTimeEdit,\n",
    "            QDial,\n",
    "            QDoubleSpinBox,\n",
    "            QFontComboBox,\n",
    "            QLCDNumber,\n",
    "            QLabel,\n",
    "            QLineEdit,\n",
    "            QProgressBar,\n",
    "            QPushButton,\n",
    "            QRadioButton,\n",
    "            QSlider,\n",
    "            QSpinBox,\n",
    "            QTimeEdit\n",
    "        ]\n",
    "        \n",
    "        for w in widgets:\n",
    "            layout.addWidget(w())\n",
    "            \n",
    "        widget = QWidget()\n",
    "        widget.setLayout(layout)\n",
    "        \n",
    "        self.setCentralWidget(widget)\n",
    "        \n",
    "        \n",
    "\n",
    "app = QApplication([])\n",
    "\n",
    "window = MainWindow()\n",
    "window.show()\n",
    "\n",
    "app.exec()\n"
   ]
  },
  {
   "cell_type": "code",
   "execution_count": null,
   "metadata": {},
   "outputs": [],
   "source": []
  }
 ],
 "metadata": {
  "kernelspec": {
   "display_name": "Python 3",
   "language": "python",
   "name": "python3"
  },
  "language_info": {
   "codemirror_mode": {
    "name": "ipython",
    "version": 3
   },
   "file_extension": ".py",
   "mimetype": "text/x-python",
   "name": "python",
   "nbconvert_exporter": "python",
   "pygments_lexer": "ipython3",
   "version": "3.12.2"
  }
 },
 "nbformat": 4,
 "nbformat_minor": 2
}

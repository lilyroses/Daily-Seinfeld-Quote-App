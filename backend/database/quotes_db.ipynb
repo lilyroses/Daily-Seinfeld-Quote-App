{
 "cells": [
  {
   "cell_type": "code",
   "execution_count": 1,
   "metadata": {},
   "outputs": [],
   "source": [
    "import sqlite3"
   ]
  },
  {
   "cell_type": "code",
   "execution_count": 2,
   "metadata": {},
   "outputs": [],
   "source": [
    "conn = sqlite3.connect('quotes.db')"
   ]
  },
  {
   "cell_type": "code",
   "execution_count": 3,
   "metadata": {},
   "outputs": [],
   "source": [
    "c = conn.cursor()"
   ]
  },
  {
   "cell_type": "code",
   "execution_count": 5,
   "metadata": {},
   "outputs": [
    {
     "ename": "OperationalError",
     "evalue": "table quotes already exists",
     "output_type": "error",
     "traceback": [
      "\u001b[0;31m---------------------------------------------------------------------------\u001b[0m",
      "\u001b[0;31mOperationalError\u001b[0m                          Traceback (most recent call last)",
      "Cell \u001b[0;32mIn[5], line 1\u001b[0m\n\u001b[0;32m----> 1\u001b[0m \u001b[43mc\u001b[49m\u001b[38;5;241;43m.\u001b[39;49m\u001b[43mexecute\u001b[49m\u001b[43m(\u001b[49m\u001b[38;5;124;43m\"\"\"\u001b[39;49m\u001b[38;5;124;43mCREATE TABLE quotes (\u001b[39;49m\n\u001b[1;32m      2\u001b[0m \u001b[38;5;124;43m          quoteId text,\u001b[39;49m\n\u001b[1;32m      3\u001b[0m \u001b[38;5;124;43m          quoteText text,\u001b[39;49m\n\u001b[1;32m      4\u001b[0m \u001b[38;5;124;43m          quotee text,\u001b[39;49m\n\u001b[1;32m      5\u001b[0m \u001b[38;5;124;43m          episodeId text,\u001b[39;49m\n\u001b[1;32m      6\u001b[0m \u001b[38;5;124;43m          image text,\u001b[39;49m\n\u001b[1;32m      7\u001b[0m \u001b[38;5;124;43m          isFavorite text\u001b[39;49m\n\u001b[1;32m      8\u001b[0m \u001b[38;5;124;43m)\u001b[39;49m\u001b[38;5;124;43m\"\"\"\u001b[39;49m\u001b[43m)\u001b[49m\n\u001b[1;32m     10\u001b[0m conn\u001b[38;5;241m.\u001b[39mcommit()\n",
      "\u001b[0;31mOperationalError\u001b[0m: table quotes already exists"
     ]
    }
   ],
   "source": [
    "c.execute(\"\"\"CREATE TABLE quotes (\n",
    "          quoteId text,\n",
    "          quoteText text,\n",
    "          quotee text,\n",
    "          episodeId text,\n",
    "          image text,\n",
    "          isFavorite text\n",
    ")\"\"\")\n",
    "\n",
    "conn.commit()"
   ]
  }
 ],
 "metadata": {
  "kernelspec": {
   "display_name": "Python 3",
   "language": "python",
   "name": "python3"
  },
  "language_info": {
   "codemirror_mode": {
    "name": "ipython",
    "version": 3
   },
   "file_extension": ".py",
   "mimetype": "text/x-python",
   "name": "python",
   "nbconvert_exporter": "python",
   "pygments_lexer": "ipython3",
   "version": "3.10.12"
  }
 },
 "nbformat": 4,
 "nbformat_minor": 2
}

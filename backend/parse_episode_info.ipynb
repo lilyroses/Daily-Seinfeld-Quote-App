{
 "cells": [
  {
   "cell_type": "code",
   "execution_count": 27,
   "metadata": {},
   "outputs": [],
   "source": [
    "import bs4 as BeautifulSoup"
   ]
  },
  {
   "cell_type": "markdown",
   "metadata": {},
   "source": [
    "## Read in `season_info.txt`"
   ]
  },
  {
   "cell_type": "code",
   "execution_count": 1,
   "metadata": {},
   "outputs": [],
   "source": [
    "INPUT_FILE = 'season_info.txt'\n",
    "with open(INPUT_FILE, 'r') as f:\n",
    "    season_info_lines = [line.strip() for line in f.readlines()]\n",
    "    \n",
    "# season_info_lines"
   ]
  },
  {
   "cell_type": "markdown",
   "metadata": {},
   "source": [
    "### Find the indices of the lines containing the season headers, so we can split `season_info_lines` into chunks based on season number."
   ]
  },
  {
   "cell_type": "code",
   "execution_count": 2,
   "metadata": {},
   "outputs": [],
   "source": [
    "season_header_line_indices = []\n",
    "\n",
    "for i, line in enumerate(season_info_lines):\n",
    "    if 'Season' in line:\n",
    "        season_header_line_indices.append(i)\n",
    "        \n",
    "# for i in season_header_line_indices:\n",
    "#     print(season_info_lines[i])"
   ]
  },
  {
   "cell_type": "markdown",
   "metadata": {},
   "source": [
    "### Parse the season chunks to have discernable episode lines"
   ]
  },
  {
   "cell_type": "code",
   "execution_count": 3,
   "metadata": {},
   "outputs": [],
   "source": [
    "season_info_chunks_unedited = []\n",
    "\n",
    "for x in range(len(season_header_line_indices)-1):\n",
    "    i = season_header_line_indices[x]\n",
    "    j = season_header_line_indices[x+1]\n",
    "    current_chunk = season_info_lines[i:j]\n",
    "    season_info_chunks_unedited.append(current_chunk)\n",
    "last_chunk = season_info_lines[j:]\n",
    "season_info_chunks_unedited.append(last_chunk)"
   ]
  },
  {
   "cell_type": "markdown",
   "metadata": {},
   "source": [
    "#### Rid newlines"
   ]
  },
  {
   "cell_type": "code",
   "execution_count": 4,
   "metadata": {},
   "outputs": [],
   "source": [
    "season_info_chunks = []\n",
    "for chunk in season_info_chunks_unedited:\n",
    "    chunk_without_blanks = []\n",
    "    for single_episode_data in chunk:\n",
    "        if single_episode_data != '':\n",
    "            chunk_without_blanks.append(single_episode_data)\n",
    "    season_info_chunks.append(chunk_without_blanks)\n",
    "\n",
    "# season_info_chunks"
   ]
  },
  {
   "cell_type": "markdown",
   "metadata": {},
   "source": [
    "---\n",
    "\n",
    "### Create JSON-ish dictionary to hold general episode data (calculate other attribute later from these values)"
   ]
  },
  {
   "cell_type": "code",
   "execution_count": 14,
   "metadata": {},
   "outputs": [
    {
     "data": {
      "text/plain": [
       "{1: {}, 2: {}, 3: {}, 4: {}, 5: {}, 6: {}, 7: {}, 8: {}, 9: {}}"
      ]
     },
     "execution_count": 14,
     "metadata": {},
     "output_type": "execute_result"
    }
   ],
   "source": [
    "episode_info = {}\n",
    "\n",
    "for i in range(1, len(season_info_chunks)+1):\n",
    "    episode_info[i] = {}\n",
    "    # for j in range(len(season_info_chunks)):\n",
    "    #     episode_info[i][j] = {}\n",
    "    #     episode_info[i][j]['title'] = ''\n",
    "    #     episode_info[i][j]['air_date'] = ''\n",
    "    \n",
    "episode_info"
   ]
  },
  {
   "cell_type": "markdown",
   "metadata": {},
   "source": [
    "---\n",
    "\n",
    "### Parse the episode info in each list to follow proper date format, and extract required data from each to update the all_episodes dict"
   ]
  },
  {
   "cell_type": "code",
   "execution_count": 26,
   "metadata": {},
   "outputs": [
    {
     "ename": "KeyError",
     "evalue": "8",
     "output_type": "error",
     "traceback": [
      "\u001b[1;31m---------------------------------------------------------------------------\u001b[0m",
      "\u001b[1;31mKeyError\u001b[0m                                  Traceback (most recent call last)",
      "Cell \u001b[1;32mIn[26], line 52\u001b[0m\n\u001b[0;32m     49\u001b[0m         episode_info[season_no][episode_no][\u001b[38;5;124m'\u001b[39m\u001b[38;5;124mtitle\u001b[39m\u001b[38;5;124m'\u001b[39m] \u001b[38;5;241m=\u001b[39m title\n\u001b[0;32m     50\u001b[0m         episode_info[season_no][episode_no][\u001b[38;5;124m'\u001b[39m\u001b[38;5;124mair_date\u001b[39m\u001b[38;5;124m'\u001b[39m] \u001b[38;5;241m=\u001b[39m date_aired\n\u001b[1;32m---> 52\u001b[0m \u001b[43mepisode_info\u001b[49m\u001b[43m[\u001b[49m\u001b[38;5;241;43m1\u001b[39;49m\u001b[43m]\u001b[49m\u001b[43m[\u001b[49m\u001b[38;5;241;43m8\u001b[39;49m\u001b[43m]\u001b[49m[\u001b[38;5;124m'\u001b[39m\u001b[38;5;124mtitle\u001b[39m\u001b[38;5;124m'\u001b[39m]\n",
      "\u001b[1;31mKeyError\u001b[0m: 8"
     ]
    }
   ],
   "source": [
    "# Each season has its own 'chunk' (list) in season_info_chunks\n",
    "for i in range(9):\n",
    "    \n",
    "    season_no = i + 1\n",
    "    # print(f'\\nSEASON {i+1}:')\n",
    "    \n",
    "    # 'chunk' is a list containing a list for each episode (and a list for the header as well)\n",
    "    chunk = season_info_chunks[i]\n",
    "    \n",
    "    # c is a single line containing the season or episode info. a season info\n",
    "    # item only occurs at the top of its chunk \n",
    "    for episode_no, single_episode_data in enumerate(chunk[1:], 1):\n",
    "        # print(episode_no)\n",
    "        \n",
    "        # Get individual data\n",
    "        items = single_episode_data.split()\n",
    "        \n",
    "        # The chronological number of the episode for every season ever\n",
    "        chrono_no = items[0]\n",
    "        \n",
    "        # The date this episode was first aired\n",
    "        date_aired = [d for d in items[-1][1:-1].split('/')]\n",
    "        # Break apart the date components to format correctly\n",
    "        month = date_aired[0]\n",
    "        day = date_aired[1]\n",
    "        year = date_aired[2]\n",
    "    \n",
    "        # Format the month as a 2-digit number (str)\n",
    "        if len(month) != 2:\n",
    "            month = f'0{month}'\n",
    "            date_aired[0] = month\n",
    "        # Format the day as a 2-digit number (str)\n",
    "        if len(day) != 2:\n",
    "            day = f'0{day}'\n",
    "            date_aired[1] = day\n",
    "        # Format the year as a 4-digit number (str)\n",
    "        if len(year) != 4:\n",
    "            year = f'19{year}'\n",
    "            date_aired[2] = year\n",
    "     \n",
    "        date_aired = '/'.join(date_aired)\n",
    "        # print(date_aired)       \n",
    "        \n",
    "        # The title of the episode, patched from \n",
    "        title = ' '.join(items[1:-1])\n",
    "        # print(title)\n",
    "        \n",
    "        episode_info[season_no][episode_no] = {}\n",
    "        episode_info[season_no][episode_no]['title'] = title\n",
    "        episode_info[season_no][episode_no]['air_date'] = date_aired\n",
    "        \n",
    "        episode_info[season_no][episode_no]['script_link'] = \n",
    "        \n",
    "        \n",
    "\n",
    "        "
   ]
  }
 ],
 "metadata": {
  "kernelspec": {
   "display_name": "Python 3",
   "language": "python",
   "name": "python3"
  },
  "language_info": {
   "codemirror_mode": {
    "name": "ipython",
    "version": 3
   },
   "file_extension": ".py",
   "mimetype": "text/x-python",
   "name": "python",
   "nbconvert_exporter": "python",
   "pygments_lexer": "ipython3",
   "version": "3.11.7"
  }
 },
 "nbformat": 4,
 "nbformat_minor": 2
}

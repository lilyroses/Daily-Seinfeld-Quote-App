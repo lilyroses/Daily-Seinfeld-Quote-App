{
 "cells": [
  {
   "cell_type": "markdown",
   "metadata": {},
   "source": [
    "# Parse Season and Episode Info\n",
    "\n",
    "---"
   ]
  },
  {
   "cell_type": "code",
   "execution_count": 250,
   "metadata": {},
   "outputs": [],
   "source": [
    "import json"
   ]
  },
  {
   "cell_type": "code",
   "execution_count": 155,
   "metadata": {},
   "outputs": [],
   "source": [
    "INPUT_FILE = 'season_info.txt'\n",
    "\n",
    "with open(INPUT_FILE, 'r') as f:\n",
    "    lines = [line.strip() for line in f.readlines()]\n",
    "# lines\n",
    "    \n",
    "# Remove all blank lines\n",
    "lines = [line for line in lines if line != '']"
   ]
  },
  {
   "cell_type": "markdown",
   "metadata": {},
   "source": [
    "---\n",
    "\n",
    "## Database Key Constants"
   ]
  },
  {
   "cell_type": "code",
   "execution_count": 156,
   "metadata": {},
   "outputs": [],
   "source": [
    "SEASON_ID = 10000\n",
    "EPISODE_ID = 20000\n",
    "QUOTE_ID = 30000\n",
    "CHARACTER_ID = 40000\n",
    "QUOTEE_ID = 50000"
   ]
  },
  {
   "cell_type": "markdown",
   "metadata": {},
   "source": [
    "---\n",
    "\n",
    "## Functions"
   ]
  },
  {
   "cell_type": "markdown",
   "metadata": {},
   "source": [
    "### Database Key Creation"
   ]
  },
  {
   "cell_type": "code",
   "execution_count": 183,
   "metadata": {},
   "outputs": [
    {
     "data": {
      "text/plain": [
       "'20180'"
      ]
     },
     "execution_count": 183,
     "metadata": {},
     "output_type": "execute_result"
    }
   ],
   "source": [
    "def create_db_id(BASE_ID, item_no):\n",
    "    x = len(str(BASE_ID)) - len(str(item_no))\n",
    "    base_item_id = str(BASE_ID)[:x]\n",
    "    item_id = f'{base_item_id}{item_no}'\n",
    "\n",
    "    return item_id\n",
    "\n",
    "create_db_id(EPISODE_ID, 180)"
   ]
  },
  {
   "cell_type": "markdown",
   "metadata": {},
   "source": [
    "### Parse and Format Dates"
   ]
  },
  {
   "cell_type": "markdown",
   "metadata": {},
   "source": [
    "#### Season Year"
   ]
  },
  {
   "cell_type": "code",
   "execution_count": 198,
   "metadata": {},
   "outputs": [],
   "source": [
    "def parse_season_date_year(date_year):\n",
    "    \n",
    "    air_date_years = []\n",
    "\n",
    "    # If there is only one year in the date section\n",
    "    if '-' not in date_year:\n",
    "        if len(date_year) == 4:\n",
    "            air_date_years.append(date_year)\n",
    "        elif len(date_year) == 2:\n",
    "            date_year = f'19{date_year}'\n",
    "            air_date_years.append(date_year)\n",
    "    # If there are two years in the date section\n",
    "    else:\n",
    "        years = date_year.split('-')\n",
    "        start_year = f'19{years[0]}'\n",
    "        end_year = f'19{years[1]}'\n",
    "        air_date_years = [start_year, end_year]\n",
    "    # Return year(s) as strings in a list\n",
    "    return air_date_years\n",
    "\n",
    "# parse_date_year('97-98')"
   ]
  },
  {
   "cell_type": "markdown",
   "metadata": {},
   "source": [
    "#### Episode Full Date"
   ]
  },
  {
   "cell_type": "code",
   "execution_count": 199,
   "metadata": {},
   "outputs": [],
   "source": [
    "# Parse date format for episodes\n",
    "def parse_episode_air_date(episode_air_date):\n",
    "\n",
    "    date_sections = episode_air_date.split('/')\n",
    "    month = date_sections[0]\n",
    "    day = date_sections[1]\n",
    "    year = date_sections[2]\n",
    "\n",
    "    if len(month) != 2:\n",
    "        month = f'0{month}'\n",
    "    if len(day) != 2:\n",
    "        day = f'0{day}'\n",
    "    if len(year) != 4:\n",
    "        year = f'19{year}'\n",
    "\n",
    "    new_date_sections = [month, day, year]       \n",
    "\n",
    "    formatted_episode_air_date = '/'.join(new_date_sections) \n",
    "    return formatted_episode_air_date"
   ]
  },
  {
   "cell_type": "markdown",
   "metadata": {},
   "source": [
    "---\n",
    "\n",
    "## Separate Season and Episode Info"
   ]
  },
  {
   "cell_type": "markdown",
   "metadata": {},
   "source": [
    "### Season Lines"
   ]
  },
  {
   "cell_type": "code",
   "execution_count": 200,
   "metadata": {},
   "outputs": [],
   "source": [
    "# Extracts only the lines containing the season info\n",
    "season_lines = [line for line in lines if 'Season' in line]\n",
    "season_line_indices = []\n",
    "\n",
    "# Season line indices (used to find episode lines)\n",
    "for i, line in enumerate(lines):\n",
    "    if 'Season' in line:\n",
    "        season_line_indices.append(i)"
   ]
  },
  {
   "cell_type": "markdown",
   "metadata": {},
   "source": [
    "### Episode Lines"
   ]
  },
  {
   "cell_type": "code",
   "execution_count": 239,
   "metadata": {},
   "outputs": [],
   "source": [
    "episode_lines = []\n",
    "\n",
    "# Find all lines in lines that hold episode info\n",
    "for i in range(len(season_line_indices)-1):\n",
    "    # The start of the season's episode info\n",
    "    start = season_line_indices[i]+1\n",
    "    end = season_line_indices[i+1]\n",
    "    # Create a list for that season's episodes\n",
    "    current_episodes = lines[start:end]\n",
    "    # Append the list to the master list\n",
    "    episode_lines.append(current_episodes)\n",
    "\n",
    "# Episodes in the final season\n",
    "start = season_line_indices[-1] + 1\n",
    "current_episodes = lines[start:]\n",
    "episode_lines.append(current_episodes)\n",
    "\n",
    "# episode_lines"
   ]
  },
  {
   "cell_type": "markdown",
   "metadata": {},
   "source": [
    "---\n",
    "\n",
    "## JSON"
   ]
  },
  {
   "cell_type": "markdown",
   "metadata": {},
   "source": [
    "### EPISODE INFO"
   ]
  },
  {
   "cell_type": "code",
   "execution_count": 240,
   "metadata": {},
   "outputs": [],
   "source": [
    "episode_info_json = []\n",
    "\n",
    "for season_no, season_episodes in enumerate(episode_lines, 1):\n",
    "    for episode_no, episode_line in enumerate(season_episodes, 1):\n",
    "        episode_info = episode_line.split()\n",
    "\n",
    "        # Episode chronological number\n",
    "        chrono_no = int(episode_info[0])\n",
    "        \n",
    "        # Episode DB ID\n",
    "        episode_id = create_db_id(EPISODE_ID, chrono_no)\n",
    "        \n",
    "        # Episode air date\n",
    "        episode_air_date = episode_info[-1][1:-1]\n",
    "        formatted_episode_air_date = parse_episode_air_date(episode_air_date)\n",
    "\n",
    "        # Episode title\n",
    "        title = ' '.join(episode_info[1:-1])\n",
    "\n",
    "        # Episode json\n",
    "        ep_json = {}\n",
    "\n",
    "        ep_json['episode_id'] = episode_id\n",
    "        ep_json['episode_no'] = episode_no\n",
    "        ep_json['season_no'] = season_no\n",
    "        ep_json['title'] = title\n",
    "        ep_json['air_date'] = formatted_episode_air_date\n",
    "        ep_json['script_link'] = ''\n",
    "\n",
    "        episode_info_json.append(ep_json)\n",
    "\n",
    "# len(episode_info_json)"
   ]
  },
  {
   "cell_type": "markdown",
   "metadata": {},
   "source": []
  },
  {
   "cell_type": "markdown",
   "metadata": {},
   "source": [
    "### SEASON INFO"
   ]
  },
  {
   "cell_type": "code",
   "execution_count": 241,
   "metadata": {},
   "outputs": [],
   "source": [
    "season_info_json = []\n",
    "\n",
    "# Check season lines for season number and air dates\n",
    "for i, season_line in enumerate(season_lines, 1):\n",
    "    s = {}\n",
    "    season_info = season_line.split()\n",
    "\n",
    "    # SEASON NO\n",
    "    season_no = i\n",
    "\n",
    "    # SEASON ID\n",
    "    season_id = create_db_id(SEASON_ID, season_no)\n",
    "    \n",
    "    # AIR DATES\n",
    "    date = season_info[-1][1:-1]\n",
    "    air_dates = parse_season_date_year(date)\n",
    "    \n",
    "    # Create dict\n",
    "    s['season_id'] = season_id\n",
    "    s['season_no'] = season_no\n",
    "    s['air_dates'] = air_dates\n",
    "    s['episodes'] = []\n",
    "\n",
    "    # Add dict to list\n",
    "    season_info_json.append(s)\n",
    "\n",
    "# for s in season_info_json:\n",
    "#     print(s)"
   ]
  },
  {
   "cell_type": "markdown",
   "metadata": {},
   "source": [
    "#### Add Episodes to Season JSON"
   ]
  },
  {
   "cell_type": "code",
   "execution_count": 243,
   "metadata": {},
   "outputs": [],
   "source": [
    "for episode in episode_info_json:\n",
    "    season_no = episode['season_no'] - 1\n",
    "    season_info_json[season_no]['episodes'].append(episode)\n",
    "\n",
    "# season_info_json[0]['episodes']"
   ]
  },
  {
   "cell_type": "markdown",
   "metadata": {},
   "source": [
    "---\n",
    "\n",
    "## Write JSON to File"
   ]
  },
  {
   "cell_type": "code",
   "execution_count": 246,
   "metadata": {},
   "outputs": [],
   "source": [
    "SEASON_JSON_FILE = 'seasons.json'\n",
    "EPISODE_JSON_FILE = 'episodes.json'\n",
    "\n",
    "with open(SEASON_JSON_FILE, 'w') as f:\n",
    "    json.dump(season_info_json, f)\n",
    "\n"
   ]
  }
 ],
 "metadata": {
  "kernelspec": {
   "display_name": "Python 3",
   "language": "python",
   "name": "python3"
  },
  "language_info": {
   "codemirror_mode": {
    "name": "ipython",
    "version": 3
   },
   "file_extension": ".py",
   "mimetype": "text/x-python",
   "name": "python",
   "nbconvert_exporter": "python",
   "pygments_lexer": "ipython3",
   "version": "3.12.2"
  }
 },
 "nbformat": 4,
 "nbformat_minor": 2
}

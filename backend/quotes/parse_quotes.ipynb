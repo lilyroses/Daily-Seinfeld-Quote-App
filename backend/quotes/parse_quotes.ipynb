{
 "cells": [
  {
   "cell_type": "code",
   "execution_count": 13,
   "metadata": {},
   "outputs": [],
   "source": [
    "INPUT_FILE = 'quotes.txt'\n",
    "\n",
    "with open(INPUT_FILE, 'r') as f:\n",
    "    lines = [line.strip() for line in f.readlines()]\n",
    "\n",
    "# lines"
   ]
  },
  {
   "cell_type": "code",
   "execution_count": 15,
   "metadata": {},
   "outputs": [
    {
     "data": {
      "text/plain": [
       "36"
      ]
     },
     "execution_count": 15,
     "metadata": {},
     "output_type": "execute_result"
    }
   ],
   "source": [
    "single_quotee = []\n",
    "\n",
    "multiple_quotee = []\n",
    "\n",
    "for line in lines:\n",
    "    if '(' in line:\n",
    "        single_quotee.append(line)\n",
    "\n",
    "multiple_quotee"
   ]
  },
  {
   "cell_type": "code",
   "execution_count": null,
   "metadata": {},
   "outputs": [],
   "source": [
    "kramer = []\n",
    "elaine = []\n",
    "jerry = []\n",
    "george = []\n",
    "misc = []"
   ]
  },
  {
   "cell_type": "code",
   "execution_count": null,
   "metadata": {},
   "outputs": [],
   "source": []
  },
  {
   "cell_type": "code",
   "execution_count": null,
   "metadata": {},
   "outputs": [],
   "source": []
  },
  {
   "cell_type": "code",
   "execution_count": null,
   "metadata": {},
   "outputs": [],
   "source": [
    "class Quote:\n",
    "    def __init__(self, quote_id, quote_text: str, season_no: int, ep_no: int,\n",
    "                 quotees:list):\n",
    "        self.quote_id = quote_id\n",
    "        self.quote_text = quote_text\n",
    "        self.season_no = season_no\n",
    "        self.ep_no = ep_no\n",
    "        self.quotees = quotees\n",
    "        for quotee in self.quotees:\n",
    "            quotee.append(self.quote_id)\n",
    "\n"
   ]
  },
  {
   "cell_type": "code",
   "execution_count": null,
   "metadata": {},
   "outputs": [],
   "source": []
  }
 ],
 "metadata": {
  "kernelspec": {
   "display_name": "Python 3",
   "language": "python",
   "name": "python3"
  },
  "language_info": {
   "codemirror_mode": {
    "name": "ipython",
    "version": 3
   },
   "file_extension": ".py",
   "mimetype": "text/x-python",
   "name": "python",
   "nbconvert_exporter": "python",
   "pygments_lexer": "ipython3",
   "version": "3.12.2"
  }
 },
 "nbformat": 4,
 "nbformat_minor": 2
}
